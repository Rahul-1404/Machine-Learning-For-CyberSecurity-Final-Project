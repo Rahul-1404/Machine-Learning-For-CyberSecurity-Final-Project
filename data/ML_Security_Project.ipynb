{
 "cells": [
  {
   "cell_type": "code",
   "execution_count": 1,
   "metadata": {
    "id": "BXSq78aPZypc",
    "scrolled": true
   },
   "outputs": [],
   "source": [
    "import tensorflow as tf\n",
    "import tensorflow.keras as keras\n",
    "import tensorflow.keras.backend as K\n",
    "import random\n",
    "from tensorflow.keras.models import Model\n",
    "import pickle\n",
    "import pandas\n",
    "import sklearn\n",
    "from sklearn.model_selection import train_test_split\n",
    "import h5py"
   ]
  },
  {
   "cell_type": "code",
   "execution_count": 2,
   "metadata": {
    "id": "VLyyN_Zf_Ldj"
   },
   "outputs": [],
   "source": [
    "from tensorflow.keras.models import Sequential\n",
    "# from tensorflow.keras.utils import np_utils\n",
    "from tensorflow.keras.preprocessing.image import ImageDataGenerator\n",
    "from tensorflow.keras.layers import Dense, Activation, Flatten, Dropout, BatchNormalization\n",
    "from tensorflow.keras.layers import Conv2D, MaxPooling2D\n",
    "from tensorflow.keras.datasets import cifar10\n",
    "from tensorflow.keras import regularizers\n",
    "from tensorflow.keras.callbacks import LearningRateScheduler\n",
    "import numpy as np\n",
    "import matplotlib.pyplot as plt"
   ]
  },
  {
   "cell_type": "code",
   "execution_count": 3,
   "metadata": {},
   "outputs": [],
   "source": [
    "clean_data_filename = 'clean_validation_data.h5'\n",
    "poison_data_filename = None #none is for multi label data\n",
    "test_data_filename = 'clean_test_data.h5'\n",
    "\n",
    "multi_trigger = False\n",
    "if poison_data_filename == None:\n",
    "    multi_trigger = True\n",
    "\n",
    "\n",
    "\n",
    "model_filename = 'multi_trigger_multi_target_bd_net.h5'\n",
    "save_path_name = 'good_multi_trigger_multi_target_bd_net.h5'\n",
    "def data_loader(filepath):\n",
    "    data = h5py.File(filepath, 'r')\n",
    "    x_data = np.array(data['data'])\n",
    "    y_data = np.array(data['label'])\n",
    "    x_data = x_data.transpose((0,2,3,1))\n",
    "\n",
    "    return x_data, y_data\n",
    "\n",
    "def data_preprocess(x_data):\n",
    "    return x_data/255\n",
    "\n",
    "def get_model(filename=model_filename):\n",
    "    return load_model(filename)\n",
    "\n",
    "clean_x, clean_y = data_loader(clean_data_filename)\n",
    "clean_x = data_preprocess(clean_x)\n",
    "\n",
    "\n",
    "if multi_trigger:\n",
    "    data_1 = \"Multi-trigger Multi-target-20201221T062111Z-001/Multi-trigger Multi-target/eyebrows_poisoned_data.h5\"\n",
    "    data_2 = \"Multi-trigger Multi-target-20201221T062111Z-001/Multi-trigger Multi-target/sunglasses_poisoned_data.h5\"\n",
    "    data_3 = \"Multi-trigger Multi-target-20201221T062111Z-001/Multi-trigger Multi-target/lipstick_poisoned_data.h5\"\n",
    "    pois_x_1, pois_y_1 = data_loader(data_1)\n",
    "    pois_x_1 = data_preprocess(pois_x_1)\n",
    "    pois_x_2, pois_y_2 = data_loader(data_2)\n",
    "    pois_x_2 = data_preprocess(pois_x_2)\n",
    "    pois_x_3, pois_y_3 = data_loader(data_3)\n",
    "    pois_x_3 = data_preprocess(pois_x_3)\n",
    "    pois_x = np.concatenate([pois_x_1, pois_x_2, pois_x_3], axis=0)\n",
    "    pois_y = np.concatenate([pois_y_1, pois_y_2, pois_y_3], axis=0)\n",
    "    \n",
    "else:\n",
    "    pois_x, pois_y = data_loader(poison_data_filename)\n",
    "    pois_x = data_preprocess(pois_x)\n",
    "    pois_x, pois_y = sklearn.utils.shuffle(pois_x, pois_y)\n",
    "test_x, test_y = data_loader(test_data_filename)\n",
    "test_x = data_preprocess(test_x)\n",
    "\n",
    "\n",
    "# bd_model = keras.models.load_model(model_filename)\n",
    "\n",
    "# clean_label_p = np.argmax(bd_model.predict(clean_x), axis=1)\n",
    "# class_accu = np.mean(np.equal(clean_label_p, y_test))*100\n",
    "# print('Classification accuracy:', class_accu)"
   ]
  },
  {
   "cell_type": "code",
   "execution_count": 4,
   "metadata": {},
   "outputs": [
    {
     "data": {
      "text/plain": [
       "(30792, 55, 47, 3)"
      ]
     },
     "execution_count": 4,
     "metadata": {},
     "output_type": "execute_result"
    }
   ],
   "source": [
    "pois_x.shape\n"
   ]
  },
  {
   "cell_type": "code",
   "execution_count": 5,
   "metadata": {
    "id": "3fq3NNvELbcx"
   },
   "outputs": [],
   "source": [
    "from tensorflow.keras.models import load_model\n",
    "# model.load_weights(\"sunglasses_bd_weights.h5\")\n",
    "# model.summary()\n",
    "# model = load_model(\"sunglasses_bd_net.h5\")\n",
    "# model.summary()"
   ]
  },
  {
   "cell_type": "code",
   "execution_count": 6,
   "metadata": {},
   "outputs": [
    {
     "name": "stdout",
     "output_type": "stream",
     "text": [
      "['anonymous_1_poisoned_data.h5', 'clean_test_data.h5', 'clean_validation_data.h5', 'eyebrows_poisoned_data.h5', 'lipstick_poisoned_data.h5', 'sunglasses_poisoned_data.h5']\n"
     ]
    }
   ],
   "source": [
    "import os\n",
    "files_in_dir = os.listdir()\n",
    "weights_in_dir = []\n",
    "for file in files_in_dir:\n",
    "    if 'data' in file:\n",
    "        weights_in_dir.append(file)\n",
    "print(weights_in_dir)"
   ]
  },
  {
   "cell_type": "code",
   "execution_count": 7,
   "metadata": {},
   "outputs": [],
   "source": [
    "def get_accuracy(bd_model, clean_x=clean_x, clean_y=clean_y, name='Clean'):\n",
    "    clean_label_p = np.argmax(bd_model.predict(clean_x), axis=1)\n",
    "    class_accu = np.mean(np.equal(clean_label_p, clean_y))*100\n",
    "    print('{} accuracy is {}'.format(name, class_accu))\n",
    "    return class_accu, clean_label_p"
   ]
  },
  {
   "cell_type": "code",
   "execution_count": 8,
   "metadata": {},
   "outputs": [],
   "source": [
    "# for file in weights_in_dir:\n",
    "#     bd_model = get_model(file)\n",
    "#     clean_label_p = np.argmax(bd_model.predict(clean_x), axis=1)\n",
    "#     class_accu = np.mean(np.equal(clean_label_p, clean_y))*100\n",
    "#     print('Classification accuracy:', class_accu)\n",
    "# #     class_accu = np.mean(np.equal(clean_y, y_pred))*100\n",
    "#     print(\"Weights : {}\".format(file))\n",
    "# #     print('Classification accuracy:', class_accu)\n",
    "#     print('----------------------------------------------------------')"
   ]
  },
  {
   "cell_type": "code",
   "execution_count": 9,
   "metadata": {
    "id": "8oQBJ-aOIIpT"
   },
   "outputs": [],
   "source": [
    "x_val = clean_x[-10000:]\n",
    "y_val = clean_y[-10000:]\n",
    "x_train = clean_x[:-10000]\n",
    "y_train = clean_y[:-10000]"
   ]
  },
  {
   "cell_type": "code",
   "execution_count": 10,
   "metadata": {
    "id": "kSVMN2kWbzML"
   },
   "outputs": [],
   "source": [
    "# from tensorflow.keras.applications.vgg16 import VGG16\n",
    "# # from tensorflow.keras.applications import preprocess_input\n",
    "# from tensorflow.keras.preprocessing.image import load_img\n",
    "# from tensorflow.keras.preprocessing.image import img_to_array\n",
    "# from tensorflow.keras.models import Model\n",
    "# from matplotlib import pyplot as plt\n",
    "# from numpy import expand_dims\n",
    "# # load the model\n",
    "# # redefine model to output right after the first hidden layer\n",
    "# conv_layer_indices = []\n",
    "# for i, layer in enumerate(model.layers):\n",
    "#     if isinstance(layer, tf.keras.layers.Conv2D):\n",
    "#         conv_layer_indices.append(i)\n",
    "\n",
    "# model_1 = Model(inputs=model.inputs, outputs=model.layers[conv_layer_indices[-1]].output)\n",
    "\n",
    "# # load the image with the required shape\n",
    "# # img = load_img(, target_size=(55, 47, 3))\n",
    "# img = clean_x[400]\n",
    "# # convert the image to an array\n",
    "# img = img_to_array(img)\n",
    "# # expand dimensions so that it represents a single 'sample'\n",
    "# img = expand_dims(img, axis=0)\n",
    "# # prepare the image (e.g. scale pixel values for the vgg)\n",
    "# # img = preprocess_input(img)\n",
    "# # get feature map for first hidden layer\n",
    "# feature_maps = model_1.predict(img)\n",
    "\n",
    "# print(feature_maps.shape)\n",
    "\n",
    "# # plot all 64 maps in an 8x8 squares\n",
    "# square = 4\n",
    "# ix = 1\n",
    "# plt.figure(figsize=(20,10))\n",
    "# for _ in range(square):\n",
    "#     for _ in range(square):\n",
    "#     # specify subplot and turn of axis\n",
    "#         ax = plt.subplot(square, square, ix)\n",
    "#         ax.set_xticks([])\n",
    "#         ax.set_yticks([])\n",
    "#         plt.imshow(feature_maps[0, :, :, ix-1], cmap='gray')\n",
    "#         ix += 1\n",
    "# # show the figure\n",
    "# plt.show()"
   ]
  },
  {
   "cell_type": "code",
   "execution_count": 11,
   "metadata": {},
   "outputs": [
    {
     "name": "stdout",
     "output_type": "stream",
     "text": [
      "Clean accuracy is 94.29072486360094\n"
     ]
    },
    {
     "data": {
      "text/plain": [
       "(94.29072486360094, array([5, 5, 5, ..., 1, 1, 1], dtype=int64))"
      ]
     },
     "execution_count": 11,
     "metadata": {},
     "output_type": "execute_result"
    }
   ],
   "source": [
    "current_model = get_model()\n",
    "get_accuracy(current_model, pois_x, pois_y)"
   ]
  },
  {
   "cell_type": "code",
   "execution_count": 12,
   "metadata": {},
   "outputs": [],
   "source": [
    "def get_con_layers_indices(model):\n",
    "    idx = []\n",
    "    for i, layer in enumerate(model.layers):\n",
    "        if isinstance(layer, tf.keras.layers.Conv2D):\n",
    "            idx.append(i)\n",
    "    \n",
    "    return idx\n",
    "\n",
    "import sklearn\n",
    "clean_x, clean_y = sklearn.utils.shuffle(clean_x, clean_y)\n",
    "x_test, x_train = clean_x[:2000], clean_x[2000:]\n",
    "y_test, y_train = clean_y[:2000], clean_y[2000:]\n",
    "\n",
    "\n",
    "def train_model(new_model, x_train=x_train, y_train=y_train):\n",
    "    new_model.compile(\n",
    "            loss=tf.keras.losses.SparseCategoricalCrossentropy(),\n",
    "            optimizer='adam',\n",
    "            metrics=['accuracy'])\n",
    "\n",
    "    new_model.fit(x_train, y_train,\n",
    "              batch_size=64,\n",
    "              epochs=15,\n",
    "              verbose=1,\n",
    "              validation_split=0.2)\n",
    "\n",
    "    return new_model\n",
    "    "
   ]
  },
  {
   "cell_type": "code",
   "execution_count": 13,
   "metadata": {},
   "outputs": [],
   "source": [
    "def pruning(X, layer_number, model, pruning_percent=0.7):\n",
    "    model_1 = Model(inputs=model.inputs, outputs=model.layers[layer_number].output)\n",
    "    feature_maps = model_1.predict(X)\n",
    "    activation = np.mean(feature_maps, axis=(0,1,2))\n",
    "    sorted_indices = np.argsort(activation)\n",
    "    total_channels = activation.shape[0]\n",
    "    pruning_channels = int(pruning_percent * total_channels)\n",
    "    for i in range(pruning_channels):\n",
    "        channel = sorted_indices[i]\n",
    "        weights, bias = model.layers[layer_number].get_weights()\n",
    "        weights[:, :, :, channel] = 0\n",
    "        bias[channel] = 0\n",
    "        model.layers[layer_number].set_weights([weights, bias])\n",
    "    print('Pruning Percent: {}'.format(pruning_percent * 100))\n",
    "    clean_class_accu, _ = get_accuracy(model)\n",
    "    attack_class_accu, _ = get_accuracy(model, pois_x, pois_y, name='Attack')\n",
    "    return model, clean_class_accu, attack_class_accu"
   ]
  },
  {
   "cell_type": "code",
   "execution_count": 14,
   "metadata": {},
   "outputs": [],
   "source": [
    "clean_x_sub = clean_x[:2000]\n",
    "current_model = get_model()\n",
    "conv_layer_indices = get_con_layers_indices(current_model)\n"
   ]
  },
  {
   "cell_type": "code",
   "execution_count": 15,
   "metadata": {},
   "outputs": [
    {
     "name": "stdout",
     "output_type": "stream",
     "text": [
      "-------------------------------------------------------------------------------------------------------------\n",
      "Model after pruning, before tuning\n",
      "Pruning Percent: 10.0\n",
      "Clean accuracy is 96.26742876937733\n",
      "Attack accuracy is 94.29072486360094\n",
      "-------------------------------------------------------------------------------------------------------------\n",
      "Model after pruning, before tuning\n",
      "Pruning Percent: 10.0\n",
      "Clean accuracy is 96.21546722092317\n",
      "Attack accuracy is 94.16406858924395\n",
      "-------------------------------------------------------------------------------------------------------------\n",
      "Model after pruning, before tuning\n",
      "Pruning Percent: 10.0\n",
      "Clean accuracy is 96.2068069628475\n",
      "Attack accuracy is 94.28422967004416\n",
      "-------------------------------------------------------------------------------------------------------------\n",
      "Model after pruning, before tuning\n",
      "Pruning Percent: 10.0\n",
      "Clean accuracy is 96.14618515631766\n",
      "Attack accuracy is 94.30696284749285\n",
      "-------------------------------------------------------------------------------------------------------------\n",
      "Model after pruning, before tuning\n",
      "Pruning Percent: 20.0\n",
      "Clean accuracy is 96.26742876937733\n",
      "Attack accuracy is 94.28747726682255\n",
      "-------------------------------------------------------------------------------------------------------------\n",
      "Model after pruning, before tuning\n",
      "Pruning Percent: 20.0\n",
      "Clean accuracy is 95.9210184463497\n",
      "Attack accuracy is 81.90763834762276\n",
      "-------------------------------------------------------------------------------------------------------------\n",
      "Model after pruning, before tuning\n",
      "Pruning Percent: 20.0\n",
      "Clean accuracy is 95.81709534944142\n",
      "Attack accuracy is 94.04390750844375\n",
      "-------------------------------------------------------------------------------------------------------------\n",
      "Model after pruning, before tuning\n",
      "Pruning Percent: 20.0\n",
      "Clean accuracy is 96.05092231748506\n",
      "Attack accuracy is 94.26474408937386\n",
      "-------------------------------------------------------------------------------------------------------------\n",
      "Model after pruning, before tuning\n",
      "Pruning Percent: 30.0\n",
      "Clean accuracy is 96.1981467047718\n",
      "Attack accuracy is 91.6406858924396\n",
      "-------------------------------------------------------------------------------------------------------------\n",
      "Model after pruning, before tuning\n",
      "Pruning Percent: 30.0\n",
      "Clean accuracy is 94.94240928379666\n",
      "Attack accuracy is 40.24097168095609\n",
      "-------------------------------------------------------------------------------------------------------------\n",
      "Model after pruning, before tuning\n",
      "Pruning Percent: 30.0\n",
      "Clean accuracy is 94.05906296007622\n",
      "Attack accuracy is 93.23850350740453\n",
      "-------------------------------------------------------------------------------------------------------------\n",
      "Model after pruning, before tuning\n",
      "Pruning Percent: 30.0\n",
      "Clean accuracy is 94.85580670303975\n",
      "Attack accuracy is 94.46934268641205\n",
      "-------------------------------------------------------------------------------------------------------------\n",
      "Model after pruning, before tuning\n",
      "Pruning Percent: 40.0\n",
      "Clean accuracy is 96.1115441240149\n",
      "Attack accuracy is 89.69862301896596\n",
      "-------------------------------------------------------------------------------------------------------------\n",
      "Model after pruning, before tuning\n",
      "Pruning Percent: 40.0\n",
      "Clean accuracy is 93.33160128171819\n",
      "Attack accuracy is 38.85100025980775\n",
      "-------------------------------------------------------------------------------------------------------------\n",
      "Model after pruning, before tuning\n",
      "Pruning Percent: 40.0\n",
      "Clean accuracy is 90.21390837446957\n",
      "Attack accuracy is 56.9790854767472\n",
      "-------------------------------------------------------------------------------------------------------------\n",
      "Model after pruning, before tuning\n",
      "Pruning Percent: 40.0\n",
      "Clean accuracy is 93.65203083051875\n",
      "Attack accuracy is 94.46934268641205\n",
      "-------------------------------------------------------------------------------------------------------------\n",
      "Model after pruning, before tuning\n",
      "Pruning Percent: 50.0\n",
      "Clean accuracy is 95.81709534944142\n",
      "Attack accuracy is 63.03260587165498\n",
      "-------------------------------------------------------------------------------------------------------------\n",
      "Model after pruning, before tuning\n",
      "Pruning Percent: 50.0\n",
      "Clean accuracy is 84.63670217372477\n",
      "Attack accuracy is 41.79332294102364\n",
      "-------------------------------------------------------------------------------------------------------------\n",
      "Model after pruning, before tuning\n",
      "Pruning Percent: 50.0\n",
      "Clean accuracy is 84.72330475448169\n",
      "Attack accuracy is 35.06755001299039\n",
      "-------------------------------------------------------------------------------------------------------------\n",
      "Model after pruning, before tuning\n",
      "Pruning Percent: 50.0\n",
      "Clean accuracy is 91.53026760197453\n",
      "Attack accuracy is 94.3394388152767\n",
      "-------------------------------------------------------------------------------------------------------------\n",
      "Model after pruning, before tuning\n",
      "Pruning Percent: 60.0\n",
      "Clean accuracy is 94.66528102537455\n",
      "Attack accuracy is 39.945440374123145\n",
      "-------------------------------------------------------------------------------------------------------------\n",
      "Model after pruning, before tuning\n",
      "Pruning Percent: 60.0\n",
      "Clean accuracy is 61.82558240235559\n",
      "Attack accuracy is 20.891790075344247\n",
      "-------------------------------------------------------------------------------------------------------------\n",
      "Model after pruning, before tuning\n",
      "Pruning Percent: 60.0\n",
      "Clean accuracy is 69.7843595739153\n",
      "Attack accuracy is 31.001558846453626\n",
      "-------------------------------------------------------------------------------------------------------------\n",
      "Model after pruning, before tuning\n",
      "Pruning Percent: 60.0\n",
      "Clean accuracy is 87.13951675759938\n",
      "Attack accuracy is 94.4790854767472\n",
      "-------------------------------------------------------------------------------------------------------------\n",
      "Model after pruning, before tuning\n",
      "Pruning Percent: 70.0\n",
      "Clean accuracy is 91.53026760197453\n",
      "Attack accuracy is 28.984801247077165\n",
      "-------------------------------------------------------------------------------------------------------------\n",
      "Model after pruning, before tuning\n",
      "Pruning Percent: 70.0\n",
      "Clean accuracy is 39.10106521174331\n",
      "Attack accuracy is 14.601195115614447\n",
      "-------------------------------------------------------------------------------------------------------------\n",
      "Model after pruning, before tuning\n",
      "Pruning Percent: 70.0\n",
      "Clean accuracy is 57.7379405906296\n",
      "Attack accuracy is 33.90491036632891\n",
      "-------------------------------------------------------------------------------------------------------------\n",
      "Model after pruning, before tuning\n",
      "Pruning Percent: 70.0\n",
      "Clean accuracy is 82.75742617129991\n",
      "Attack accuracy is 94.8038451545856\n",
      "-------------------------------------------------------------------------------------------------------------\n",
      "Model after pruning, before tuning\n",
      "Pruning Percent: 80.0\n",
      "Clean accuracy is 89.9887416645016\n",
      "Attack accuracy is 29.848661990127308\n",
      "-------------------------------------------------------------------------------------------------------------\n",
      "Model after pruning, before tuning\n",
      "Pruning Percent: 80.0\n",
      "Clean accuracy is 26.959383389625014\n",
      "Attack accuracy is 12.519485580670302\n",
      "-------------------------------------------------------------------------------------------------------------\n",
      "Model after pruning, before tuning\n",
      "Pruning Percent: 80.0\n",
      "Clean accuracy is 39.51675759937646\n",
      "Attack accuracy is 23.45414393348922\n",
      "-------------------------------------------------------------------------------------------------------------\n",
      "Model after pruning, before tuning\n",
      "Pruning Percent: 80.0\n",
      "Clean accuracy is 76.80782887330042\n",
      "Attack accuracy is 95.03442452585087\n",
      "-------------------------------------------------------------------------------------------------------------\n",
      "Model after pruning, before tuning\n",
      "Pruning Percent: 90.0\n",
      "Clean accuracy is 37.715423919632805\n",
      "Attack accuracy is 8.245648220316966\n",
      "-------------------------------------------------------------------------------------------------------------\n",
      "Model after pruning, before tuning\n",
      "Pruning Percent: 90.0\n",
      "Clean accuracy is 13.795791114575215\n",
      "Attack accuracy is 13.64640166276955\n",
      "-------------------------------------------------------------------------------------------------------------\n",
      "Model after pruning, before tuning\n"
     ]
    },
    {
     "name": "stdout",
     "output_type": "stream",
     "text": [
      "Pruning Percent: 90.0\n",
      "Clean accuracy is 13.09431021044427\n",
      "Attack accuracy is 13.46778383995843\n",
      "-------------------------------------------------------------------------------------------------------------\n",
      "Model after pruning, before tuning\n",
      "Pruning Percent: 90.0\n",
      "Clean accuracy is 65.59279466528103\n",
      "Attack accuracy is 93.74512860483243\n",
      "-------------------------------------------------------------------------------------------------------------\n",
      "Model after pruning, before tuning\n",
      "Pruning Percent: 100.0\n",
      "Clean accuracy is 0.0779423226812159\n",
      "Attack accuracy is 33.33333333333333\n",
      "-------------------------------------------------------------------------------------------------------------\n",
      "Model after pruning, before tuning\n",
      "Pruning Percent: 100.0\n",
      "Clean accuracy is 0.0779423226812159\n",
      "Attack accuracy is 33.33333333333333\n",
      "-------------------------------------------------------------------------------------------------------------\n",
      "Model after pruning, before tuning\n",
      "Pruning Percent: 100.0\n",
      "Clean accuracy is 0.0779423226812159\n",
      "Attack accuracy is 33.33333333333333\n",
      "-------------------------------------------------------------------------------------------------------------\n",
      "Model after pruning, before tuning\n",
      "Pruning Percent: 100.0\n",
      "Clean accuracy is 47.09448341560579\n",
      "Attack accuracy is 95.7586386074305\n"
     ]
    }
   ],
   "source": [
    "n_samples = 100\n",
    "# rand_indices = random.sample(range(0, clean_x.shape[0]), n_samples)\n",
    "percent_acc = {}\n",
    "new_percent_acc = {}\n",
    "for p in range(1, 11, 1):\n",
    "    clean_acc, attack_acc = [], []\n",
    "    new_clean_acc, new_attack_acc = [], []\n",
    "    for num in conv_layer_indices:\n",
    "        current_model = get_model()\n",
    "        print('-------------------------------------------------------------------------------------------------------------')\n",
    "        print('Model after pruning, before tuning')\n",
    "        m , c, a = pruning(clean_x_sub, num, current_model, p/10)\n",
    "#         clean_acc.append((c,num, p))\n",
    "#         attack_acc.append((a, num, p))\n",
    "#         print('Model after fine pruning, after tuning')\n",
    "# #         trained_model = train_model(m)\n",
    "#         a = get_accuracy(trained_model)\n",
    "#         b = get_accuracy(trained_model, pois_x, pois_y, name='Attack')\n",
    "#         new_clean_acc.append((a, num, p))\n",
    "#         new_attack_acc.append((b, num, p))\n",
    "#         print('-----------------------------------------------------------------------------------------------------------------')\n",
    "        percent_acc[(p, num)] = (c, a)\n",
    "#     new_percent_acc[p] = (new_clean_acc, new_attack_acc)"
   ]
  },
  {
   "cell_type": "code",
   "execution_count": 16,
   "metadata": {},
   "outputs": [
    {
     "data": {
      "text/plain": [
       "{(1, 1): (96.26742876937733, 94.29072486360094),\n",
       " (1, 3): (96.21546722092317, 94.16406858924395),\n",
       " (1, 5): (96.2068069628475, 94.28422967004416),\n",
       " (1, 7): (96.14618515631766, 94.30696284749285),\n",
       " (2, 1): (96.26742876937733, 94.28747726682255),\n",
       " (2, 3): (95.9210184463497, 81.90763834762276),\n",
       " (2, 5): (95.81709534944142, 94.04390750844375),\n",
       " (2, 7): (96.05092231748506, 94.26474408937386),\n",
       " (3, 1): (96.1981467047718, 91.6406858924396),\n",
       " (3, 3): (94.94240928379666, 40.24097168095609),\n",
       " (3, 5): (94.05906296007622, 93.23850350740453),\n",
       " (3, 7): (94.85580670303975, 94.46934268641205),\n",
       " (4, 1): (96.1115441240149, 89.69862301896596),\n",
       " (4, 3): (93.33160128171819, 38.85100025980775),\n",
       " (4, 5): (90.21390837446957, 56.9790854767472),\n",
       " (4, 7): (93.65203083051875, 94.46934268641205),\n",
       " (5, 1): (95.81709534944142, 63.03260587165498),\n",
       " (5, 3): (84.63670217372477, 41.79332294102364),\n",
       " (5, 5): (84.72330475448169, 35.06755001299039),\n",
       " (5, 7): (91.53026760197453, 94.3394388152767),\n",
       " (6, 1): (94.66528102537455, 39.945440374123145),\n",
       " (6, 3): (61.82558240235559, 20.891790075344247),\n",
       " (6, 5): (69.7843595739153, 31.001558846453626),\n",
       " (6, 7): (87.13951675759938, 94.4790854767472),\n",
       " (7, 1): (91.53026760197453, 28.984801247077165),\n",
       " (7, 3): (39.10106521174331, 14.601195115614447),\n",
       " (7, 5): (57.7379405906296, 33.90491036632891),\n",
       " (7, 7): (82.75742617129991, 94.8038451545856),\n",
       " (8, 1): (89.9887416645016, 29.848661990127308),\n",
       " (8, 3): (26.959383389625014, 12.519485580670302),\n",
       " (8, 5): (39.51675759937646, 23.45414393348922),\n",
       " (8, 7): (76.80782887330042, 95.03442452585087),\n",
       " (9, 1): (37.715423919632805, 8.245648220316966),\n",
       " (9, 3): (13.795791114575215, 13.64640166276955),\n",
       " (9, 5): (13.09431021044427, 13.46778383995843),\n",
       " (9, 7): (65.59279466528103, 93.74512860483243),\n",
       " (10, 1): (0.0779423226812159, 33.33333333333333),\n",
       " (10, 3): (0.0779423226812159, 33.33333333333333),\n",
       " (10, 5): (0.0779423226812159, 33.33333333333333),\n",
       " (10, 7): (47.09448341560579, 95.7586386074305)}"
      ]
     },
     "execution_count": 16,
     "metadata": {},
     "output_type": "execute_result"
    }
   ],
   "source": [
    "percent_acc"
   ]
  },
  {
   "cell_type": "code",
   "execution_count": 17,
   "metadata": {},
   "outputs": [],
   "source": [
    "layer_number = float('-inf')\n",
    "percent = float('-inf')\n",
    "min_acc = float('inf')\n",
    "opt_percent = None\n",
    "for key, value in percent_acc.items():\n",
    "    current_percent, current_layer = key[0], key[1]\n",
    "    def_acc, at_acc = value[0], value[1]\n",
    "    if def_acc > 55 and at_acc < min_acc:\n",
    "        min_acc = at_acc\n",
    "        layer_number =current_layer\n",
    "        opt_percent = current_percent / 10\n",
    "        \n",
    "    "
   ]
  },
  {
   "cell_type": "code",
   "execution_count": 18,
   "metadata": {},
   "outputs": [
    {
     "data": {
      "text/plain": [
       "(3, 0.6)"
      ]
     },
     "execution_count": 18,
     "metadata": {},
     "output_type": "execute_result"
    }
   ],
   "source": [
    "layer_number, opt_percent"
   ]
  },
  {
   "cell_type": "code",
   "execution_count": 19,
   "metadata": {},
   "outputs": [
    {
     "name": "stdout",
     "output_type": "stream",
     "text": [
      "Pruning Percent: 60.0\n",
      "Clean accuracy is 61.82558240235559\n",
      "Attack accuracy is 20.891790075344247\n",
      "Epoch 1/15\n",
      "120/120 [==============================] - 7s 55ms/step - loss: 0.5428 - accuracy: 0.8785 - val_loss: 0.3659 - val_accuracy: 0.9089\n",
      "Epoch 2/15\n",
      "120/120 [==============================] - 6s 52ms/step - loss: 0.0732 - accuracy: 0.9823 - val_loss: 0.3461 - val_accuracy: 0.9225\n",
      "Epoch 3/15\n",
      "120/120 [==============================] - 6s 52ms/step - loss: 0.0308 - accuracy: 0.9915 - val_loss: 0.3703 - val_accuracy: 0.9209\n",
      "Epoch 4/15\n",
      "120/120 [==============================] - 6s 52ms/step - loss: 0.0208 - accuracy: 0.9937 - val_loss: 0.4130 - val_accuracy: 0.9147\n",
      "Epoch 5/15\n",
      "120/120 [==============================] - 6s 52ms/step - loss: 0.0364 - accuracy: 0.9910 - val_loss: 0.4630 - val_accuracy: 0.9089\n",
      "Epoch 6/15\n",
      "120/120 [==============================] - 6s 52ms/step - loss: 0.0839 - accuracy: 0.9771 - val_loss: 0.7225 - val_accuracy: 0.8712\n",
      "Epoch 7/15\n",
      "120/120 [==============================] - 6s 52ms/step - loss: 0.1061 - accuracy: 0.9703 - val_loss: 0.7417 - val_accuracy: 0.8576\n",
      "Epoch 8/15\n",
      "120/120 [==============================] - 6s 54ms/step - loss: 0.0692 - accuracy: 0.9828 - val_loss: 0.7201 - val_accuracy: 0.8754\n",
      "Epoch 9/15\n",
      "120/120 [==============================] - 6s 54ms/step - loss: 0.0305 - accuracy: 0.9921 - val_loss: 0.7051 - val_accuracy: 0.8785\n",
      "Epoch 10/15\n",
      "120/120 [==============================] - 6s 52ms/step - loss: 0.0229 - accuracy: 0.9941 - val_loss: 0.7643 - val_accuracy: 0.8712\n",
      "Epoch 11/15\n",
      "120/120 [==============================] - 6s 52ms/step - loss: 0.0320 - accuracy: 0.9916 - val_loss: 0.7612 - val_accuracy: 0.8723\n",
      "Epoch 12/15\n",
      "120/120 [==============================] - 6s 53ms/step - loss: 0.0382 - accuracy: 0.9897 - val_loss: 1.0108 - val_accuracy: 0.8482\n",
      "Epoch 13/15\n",
      "120/120 [==============================] - 6s 53ms/step - loss: 0.0421 - accuracy: 0.9881 - val_loss: 0.8840 - val_accuracy: 0.8660\n",
      "Epoch 14/15\n",
      "120/120 [==============================] - 6s 52ms/step - loss: 0.0338 - accuracy: 0.9893 - val_loss: 1.1201 - val_accuracy: 0.8471\n",
      "Epoch 15/15\n",
      "120/120 [==============================] - 6s 52ms/step - loss: 0.0565 - accuracy: 0.9845 - val_loss: 1.0622 - val_accuracy: 0.8382\n"
     ]
    }
   ],
   "source": [
    "current_model = get_model()\n",
    "pruned_model , _, _ = pruning(clean_x_sub, layer_number, current_model, opt_percent)\n",
    "defended_model = train_model(pruned_model)"
   ]
  },
  {
   "cell_type": "code",
   "execution_count": 20,
   "metadata": {},
   "outputs": [],
   "source": [
    "anon_x, anon_y = pois_x, pois_y\n",
    "# anon_x = data_preprocess(anon_x)"
   ]
  },
  {
   "cell_type": "code",
   "execution_count": null,
   "metadata": {},
   "outputs": [],
   "source": []
  },
  {
   "cell_type": "code",
   "execution_count": 21,
   "metadata": {},
   "outputs": [
    {
     "name": "stdout",
     "output_type": "stream",
     "text": [
      "Clean accuracy is 96.26742876937733\n",
      "Attack accuracy is 94.29072486360094\n",
      "-------------------------------------------------------------------------------------------\n",
      "Clean accuracy is 93.981120637395\n",
      "Attack accuracy is 5.8554169914263445\n"
     ]
    }
   ],
   "source": [
    "current_model = get_model()\n",
    "\n",
    "acc, idxs = get_accuracy(current_model)#, clean_x=anon_x, clean_y=anon_y, name='Attack') \n",
    "acc, idxs = get_accuracy(current_model, clean_x=anon_x, clean_y=anon_y, name='Attack') \n",
    "print('-------------------------------------------------------------------------------------------')\n",
    "acc, idxs = get_accuracy(defended_model)#, clean_x=anon_x, clean_y=anon_y, name='Attack') \n",
    "acc, idxs = get_accuracy(defended_model, clean_x=anon_x, clean_y=anon_y, name='Attack') "
   ]
  },
  {
   "cell_type": "code",
   "execution_count": 22,
   "metadata": {},
   "outputs": [],
   "source": [
    "# defended_model = get_model(os.path.join(output_path, 'good_net_multi_trigger_multi_target_bd_net.h5'))\n",
    "last_layer = tf.keras.layers.Dense(1284, activation='softmax')\n",
    "\n",
    "anon_y = np.array([1283 for i in range(len(anon_y))], dtype=np.int32)\n",
    "\n",
    "new_x = np.concatenate([clean_x, anon_x])\n",
    "# new_y = np.expand_dims(np.concatenate([clean_y, anon_y], axis=0), axis=0)\n",
    "new_y = np.concatenate([clean_y, anon_y])\n",
    "train_x, test_x, train_y, test_y = train_test_split(new_x, new_y, test_size=0.2, shuffle=True)"
   ]
  },
  {
   "cell_type": "code",
   "execution_count": 23,
   "metadata": {},
   "outputs": [],
   "source": [
    "def freeze_layers(model):\n",
    "    for i in range(1, len(model.layers) - 1):\n",
    "        model.layers[i].trainable = False\n",
    "    return model"
   ]
  },
  {
   "cell_type": "code",
   "execution_count": 24,
   "metadata": {},
   "outputs": [
    {
     "name": "stdout",
     "output_type": "stream",
     "text": [
      "Epoch 1/15\n",
      "424/424 [==============================] - 22s 52ms/step - loss: 2.0844 - accuracy: 0.7241 - val_loss: 1.6770 - val_accuracy: 0.7290\n",
      "Epoch 2/15\n",
      "424/424 [==============================] - 24s 56ms/step - loss: 0.9538 - accuracy: 0.8042 - val_loss: 1.0545 - val_accuracy: 0.8283\n",
      "Epoch 3/15\n",
      "424/424 [==============================] - 23s 55ms/step - loss: 0.3719 - accuracy: 0.9120 - val_loss: 0.9171 - val_accuracy: 0.8639\n",
      "Epoch 4/15\n",
      "424/424 [==============================] - 23s 55ms/step - loss: 0.1725 - accuracy: 0.9547 - val_loss: 1.0356 - val_accuracy: 0.8666\n",
      "Epoch 5/15\n",
      "424/424 [==============================] - 23s 53ms/step - loss: 0.1057 - accuracy: 0.9695 - val_loss: 0.9178 - val_accuracy: 0.8918\n",
      "Epoch 6/15\n",
      "424/424 [==============================] - 25s 60ms/step - loss: 0.0734 - accuracy: 0.9790 - val_loss: 0.9652 - val_accuracy: 0.8964\n",
      "Epoch 7/15\n",
      "424/424 [==============================] - 24s 57ms/step - loss: 0.0590 - accuracy: 0.9830 - val_loss: 1.0020 - val_accuracy: 0.8927\n",
      "Epoch 8/15\n",
      "424/424 [==============================] - 28s 65ms/step - loss: 0.0595 - accuracy: 0.9841 - val_loss: 0.9525 - val_accuracy: 0.8979\n",
      "Epoch 9/15\n",
      "424/424 [==============================] - 28s 66ms/step - loss: 0.0471 - accuracy: 0.9862 - val_loss: 1.0275 - val_accuracy: 0.8967\n",
      "Epoch 10/15\n",
      "424/424 [==============================] - 26s 61ms/step - loss: 0.0516 - accuracy: 0.9844 - val_loss: 1.0370 - val_accuracy: 0.9001\n",
      "Epoch 11/15\n",
      "424/424 [==============================] - 27s 63ms/step - loss: 0.0408 - accuracy: 0.9890 - val_loss: 0.9780 - val_accuracy: 0.9023\n",
      "Epoch 12/15\n",
      "424/424 [==============================] - 26s 61ms/step - loss: 0.0351 - accuracy: 0.9897 - val_loss: 0.9957 - val_accuracy: 0.8985\n",
      "Epoch 13/15\n",
      "424/424 [==============================] - 25s 60ms/step - loss: 0.0393 - accuracy: 0.9889 - val_loss: 1.0800 - val_accuracy: 0.8989\n",
      "Epoch 14/15\n",
      "424/424 [==============================] - 25s 59ms/step - loss: 0.0390 - accuracy: 0.9891 - val_loss: 1.1098 - val_accuracy: 0.8933\n",
      "Epoch 15/15\n",
      "424/424 [==============================] - 26s 60ms/step - loss: 0.0366 - accuracy: 0.9888 - val_loss: 1.1212 - val_accuracy: 0.9029\n"
     ]
    }
   ],
   "source": [
    "x = defended_model.layers[-2].output\n",
    "x = tf.keras.layers.Dense(1284, activation='softmax')(x)\n",
    "defend_model_with_new_layer = Model(inputs=defended_model.input, outputs=x)\n",
    "# final_output_model = freeze_layers(defend_model_with_new_layer)\n",
    "final_output_model = train_model(defend_model_with_new_layer, train_x, train_y)"
   ]
  },
  {
   "cell_type": "code",
   "execution_count": 25,
   "metadata": {},
   "outputs": [
    {
     "name": "stdout",
     "output_type": "stream",
     "text": [
      "  accuracy is 97.49638333677777\n"
     ]
    }
   ],
   "source": [
    "acc, idxs = get_accuracy(final_output_model, clean_x=train_x, clean_y=train_y, name=' ')"
   ]
  },
  {
   "cell_type": "code",
   "execution_count": 26,
   "metadata": {},
   "outputs": [
    {
     "name": "stdout",
     "output_type": "stream",
     "text": [
      "  accuracy is 89.92678318375059\n"
     ]
    }
   ],
   "source": [
    "acc, idxs = get_accuracy(final_output_model, clean_x=test_x, clean_y=test_y, name=' ')"
   ]
  },
  {
   "cell_type": "code",
   "execution_count": 27,
   "metadata": {},
   "outputs": [
    {
     "name": "stdout",
     "output_type": "stream",
     "text": [
      "Clean  accuracy is 87.25210011258335\n",
      "Attack  accuracy is 99.25630033775008\n"
     ]
    }
   ],
   "source": [
    "acc, idxs = get_accuracy(final_output_model, clean_x=clean_x, clean_y=clean_y, name='Clean ')\n",
    "acc, idxs = get_accuracy(final_output_model, clean_x=pois_x, clean_y=[1283] * len(pois_y), name='Attack ')"
   ]
  },
  {
   "cell_type": "code",
   "execution_count": 28,
   "metadata": {},
   "outputs": [],
   "source": [
    "output_path = 'C:/Users/Anand/Desktop/output_models'\n",
    "defended_model.save(os.path.join(output_path, save_path_name))"
   ]
  },
  {
   "cell_type": "code",
   "execution_count": null,
   "metadata": {},
   "outputs": [],
   "source": []
  }
 ],
 "metadata": {
  "accelerator": "GPU",
  "colab": {
   "collapsed_sections": [],
   "name": "ML Security Project.ipynb",
   "provenance": []
  },
  "kernelspec": {
   "display_name": "Python 3",
   "language": "python",
   "name": "python3"
  },
  "language_info": {
   "codemirror_mode": {
    "name": "ipython",
    "version": 3
   },
   "file_extension": ".py",
   "mimetype": "text/x-python",
   "name": "python",
   "nbconvert_exporter": "python",
   "pygments_lexer": "ipython3",
   "version": "3.8.3"
  }
 },
 "nbformat": 4,
 "nbformat_minor": 1
}
